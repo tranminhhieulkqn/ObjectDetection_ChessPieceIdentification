{
 "cells": [
  {
   "cell_type": "markdown",
   "metadata": {
    "slideshow": {
     "slide_type": "-"
    }
   },
   "source": [
    "## Setting up the Environment\n",
    "### Note: Run as administrator"
   ]
  },
  {
   "cell_type": "code",
   "execution_count": 22,
   "metadata": {},
   "outputs": [
    {
     "name": "stdout",
     "output_type": "stream",
     "text": [
      "Cloned Mask R-CNN!\n"
     ]
    }
   ],
   "source": [
    "import os \n",
    "import sys\n",
    "from IPython.display import clear_output\n",
    "import shutil\n",
    "\n",
    "!pip install --upgrade pip --user\n",
    "!pip install pycocotools\n",
    "if os.path.isdir('Mask_RCNN/') == False:\n",
    "    !git clone https://github.com/matterport/Mask_RCNN.git\n",
    "    !rm -rf Mask_RCNN/.git/\n",
    "    clear_output()\n",
    "    print('Cloned Mask R-CNN!')\n",
    "else:\n",
    "    print('Mask R-CNN already exist!')"
   ]
  },
  {
   "cell_type": "code",
   "execution_count": 27,
   "metadata": {},
   "outputs": [],
   "source": [
    "import shutil\n",
    "shutil.rmtree('Mask_RCNN/.git/', ignore_errors=True)\n",
    "if os.path.isdir('Mask_RCNN/'):\n",
    "    print('Hello')"
   ]
  },
  {
   "cell_type": "code",
   "execution_count": 18,
   "metadata": {},
   "outputs": [
    {
     "name": "stdout",
     "output_type": "stream",
     "text": [
      "true\n"
     ]
    }
   ],
   "source": [
    "\n",
    "from tqdm import tqdm\n",
    "import cv2\n",
    "import numpy as np\n",
    "import json\n",
    "import skimage.draw\n",
    "import matplotlib\n",
    "import matplotlib.pyplot as plt\n",
    "import random"
   ]
  },
  {
   "cell_type": "code",
   "execution_count": null,
   "metadata": {},
   "outputs": [],
   "source": []
  }
 ],
 "metadata": {
  "kernelspec": {
   "display_name": "Python 3",
   "language": "python",
   "name": "python3"
  },
  "language_info": {
   "codemirror_mode": {
    "name": "ipython",
    "version": 3
   },
   "file_extension": ".py",
   "mimetype": "text/x-python",
   "name": "python",
   "nbconvert_exporter": "python",
   "pygments_lexer": "ipython3",
   "version": "3.8.3"
  }
 },
 "nbformat": 4,
 "nbformat_minor": 4
}
